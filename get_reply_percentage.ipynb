{
 "cells": [
  {
   "cell_type": "code",
   "execution_count": 1,
   "id": "cea7ff20",
   "metadata": {},
   "outputs": [],
   "source": [
    "import json\n",
    "import pandas as pd\n",
    "import os\n",
    "import sqlite3\n",
    "from sqlite3 import Error\n",
    "from statistics import mean\n",
    "import numpy as np\n",
    "import seaborn as sns\n",
    "\n",
    "directory_with_files = '../data'\n",
    "db_name = './test.db'\n",
    "avia_companies = {'KLM': 56377143, 'AirFrance': 106062176, 'British_Airways': 18332190, 'AmericanAir': 22536055,\n",
    "                  'Lufthansa': 124476322, \n",
    "                   'easyJet': 38676903, 'RyanAir': 1542862735, 'SingaporeAir': 253340062,\n",
    "                  'Qantas': 218730857, 'EtihadAirways': 45621423,\n",
    "                  'VirginAtlantic': 20626359}"
   ]
  },
  {
   "cell_type": "code",
   "execution_count": 2,
   "id": "aaff25ea",
   "metadata": {},
   "outputs": [],
   "source": [
    "reverse_avia_companies={}\n",
    "for key in avia_companies.keys():\n",
    "    reverse_avia_companies[avia_companies[key]]=key"
   ]
  },
  {
   "cell_type": "code",
   "execution_count": 3,
   "id": "8736d6a7",
   "metadata": {},
   "outputs": [
    {
     "data": {
      "text/plain": [
       "{56377143: 'KLM',\n",
       " 106062176: 'AirFrance',\n",
       " 18332190: 'British_Airways',\n",
       " 22536055: 'AmericanAir',\n",
       " 124476322: 'Lufthansa',\n",
       " 38676903: 'easyJet',\n",
       " 1542862735: 'RyanAir',\n",
       " 253340062: 'SingaporeAir',\n",
       " 218730857: 'Qantas',\n",
       " 45621423: 'EtihadAirways',\n",
       " 20626359: 'VirginAtlantic'}"
      ]
     },
     "execution_count": 3,
     "metadata": {},
     "output_type": "execute_result"
    }
   ],
   "source": [
    "reverse_avia_companies"
   ]
  },
  {
   "cell_type": "code",
   "execution_count": 4,
   "id": "ae4049c6",
   "metadata": {},
   "outputs": [],
   "source": [
    "def create_connection(db_file):\n",
    "    \"\"\" create a database connection to a SQLite database \"\"\"\n",
    "    conn = None\n",
    "    try:\n",
    "        conn = sqlite3.connect(db_file)\n",
    "        print(sqlite3.version)\n",
    "    except Error as e:\n",
    "        print(e)\n",
    "    return conn"
   ]
  },
  {
   "cell_type": "code",
   "execution_count": 5,
   "id": "483daa33",
   "metadata": {},
   "outputs": [
    {
     "name": "stdout",
     "output_type": "stream",
     "text": [
      "2.6.0\n"
     ]
    }
   ],
   "source": [
    "query_for_replies = '''\n",
    "SELECT tweets.user_id, reply_id, reply_to_status_id, reply_to_user_id, tweet_id, followers_count\n",
    "FROM tweets, replies, users\n",
    "WHERE tweet_id = reply_id AND users.user_id = reply_to_user_id\n",
    "'''\n",
    "df_all_replies = pd.read_sql_query(query_for_replies, create_connection(db_name))\n"
   ]
  },
  {
   "cell_type": "code",
   "execution_count": 6,
   "id": "04fa2ec4",
   "metadata": {},
   "outputs": [],
   "source": [
    "def get_reply_perc(air_id,avia_companies, df_all_replies, conn):\n",
    "    df_mentioned = get_df_mentioned(air_id, conn)\n",
    "    df_answered = get_df_answered(air_id, df_mentioned, df_all_replies)\n",
    "    return len(df_answered)/len(df_mentioned)\n",
    "\n",
    "def get_df_mentioned(air_id, conn):\n",
    "    query = f'''\n",
    "    SELECT tweets.tweet_id AS uniq, user_mentions.tweet_id, user_mentions.text, tweets.text, tweets.tweet_type, tweets.lang \n",
    "    FROM tweets, user_mentions\n",
    "    WHERE tweets.tweet_id = user_mentions.tweet_id AND user_mentions.text = '{air_id}' AND tweets.tweet_type = 'original' AND tweets.lang != 'und'\n",
    "    '''\n",
    "    df= pd.read_sql_query(query, conn).drop_duplicates()\n",
    "    return df\n",
    "    \n",
    "def get_df_answered(air_id, df_mentioned, df_all_replies):\n",
    "    tweet_ids_mentioned = list(df_mentioned['uniq'].unique())\n",
    "    df_answer = df_all_replies[(df_all_replies['reply_to_status_id'].isin(tweet_ids_mentioned)) & (df_all_replies['user_id']==air_id)].copy()\n",
    "    return df_answer"
   ]
  },
  {
   "cell_type": "code",
   "execution_count": 7,
   "id": "e47930a7",
   "metadata": {},
   "outputs": [],
   "source": [
    "def get_url_perc(air_id,avia_companies, df_all_replies, conn):\n",
    "    df_mentioned = get_df_mentioned(air_id, conn)\n",
    "    df_answered = get_df_answered(air_id, df_mentioned, df_all_replies)\n",
    "    df_url = get_df_url(conn)\n",
    "    tweets_url = list(df_url['uniq'].unique())\n",
    "    df_answered_url = df_answered[df_answered['tweet_id'].isin(tweets_url)]\n",
    "    if len(df_answered)!=0:\n",
    "        return len(df_answered_url)/len(df_answered)\n",
    "    else:\n",
    "        return 0\n",
    "\n",
    "    \n",
    "def get_df_url(conn):\n",
    "    query = f'''\n",
    "    SELECT tweets.tweet_id AS uniq, urls.tweet_id\n",
    "    FROM tweets, urls\n",
    "    WHERE tweets.tweet_id = urls.tweet_id\n",
    "    '''\n",
    "    df= pd.read_sql_query(query, conn).drop_duplicates()\n",
    "    return df\n",
    "    "
   ]
  },
  {
   "cell_type": "code",
   "execution_count": 8,
   "id": "52a9d42d",
   "metadata": {},
   "outputs": [],
   "source": [
    "def avg_time_response(air_id,avia_companies, df_all_replies, conn):\n",
    "    df_mentioned = get_df_mentioned(air_id, conn)\n",
    "    df_answered = get_df_answered(air_id, df_mentioned, df_all_replies)\n",
    "    df_time_taken=df_answered.apply(lambda x: function_two(x.reply_id, x.reply_to_status_id, conn), axis=1).copy()\n",
    "    average_time = df_time_taken.mean()\n",
    "    seconds_time = average_time\n",
    "    return seconds_time\n",
    "\n",
    "def median_time_response(air_id,avia_companies, df_all_replies, conn):\n",
    "    df_mentioned = get_df_mentioned(air_id, conn)\n",
    "    df_answered = get_df_answered(air_id, df_mentioned, df_all_replies)\n",
    "    df_time_taken=df_answered.apply(lambda x: function_two(x.reply_id, x.reply_to_status_id, conn), axis=1).copy()\n",
    "    average_time = df_time_taken.median()\n",
    "    seconds_time = average_time\n",
    "    return seconds_time\n",
    "\n",
    "def function_two(first_id, second_id, conn):\n",
    "    query_one = f'''\n",
    "    SELECT tweet_id, timestamp_ms\n",
    "    FROM tweets\n",
    "    WHERE tweet_id = {first_id}\n",
    "    '''\n",
    "    query_two = f'''\n",
    "    SELECT tweet_id, timestamp_ms\n",
    "    FROM tweets\n",
    "    WHERE tweet_id = {second_id}\n",
    "    '''\n",
    "    df_one = pd.read_sql_query(query_one, conn)\n",
    "    df_two = pd.read_sql_query(query_two, conn)\n",
    "    timestamp_one = df_one['timestamp_ms'].values[0]\n",
    "    timestamp_two = df_two['timestamp_ms'].values[0]\n",
    "    return (timestamp_one - timestamp_two)//1000//60\n",
    "\n",
    "def get_df_time_taken(air_id,avia_companies, df_all_replies, conn):\n",
    "    df_mentioned = get_df_mentioned(air_id, conn)\n",
    "    df_answered = get_df_answered(air_id, df_mentioned, df_all_replies)\n",
    "    df_answered['time_taken']=df_answered.apply(lambda x: function_two(x.reply_id, x.reply_to_status_id, conn), axis=1).copy()\n",
    "    return_df = df_answered[['tweet_id', 'time_taken', 'followers_count']].copy().reset_index().drop('index', axis='columns')\n",
    "    return return_df"
   ]
  },
  {
   "cell_type": "code",
   "execution_count": 9,
   "id": "1f31fab8",
   "metadata": {},
   "outputs": [
    {
     "name": "stdout",
     "output_type": "stream",
     "text": [
      "2.6.0\n"
     ]
    }
   ],
   "source": [
    "conn = create_connection(db_name)\n",
    "avia_reply_percentages = {}\n",
    "for key in reverse_avia_companies.keys():\n",
    "    avia_reply_percentages[reverse_avia_companies[key]] = get_reply_perc(key, reverse_avia_companies, df_all_replies, conn)\n",
    "avia_reply_percentages = dict(sorted(avia_reply_percentages.items(), key=lambda x:x[1], reverse=True))\n"
   ]
  },
  {
   "cell_type": "code",
   "execution_count": 10,
   "id": "abf9577e",
   "metadata": {},
   "outputs": [
    {
     "name": "stdout",
     "output_type": "stream",
     "text": [
      "2.6.0\n"
     ]
    }
   ],
   "source": [
    "conn = create_connection(db_name)\n",
    "avia_url_percentages = {}\n",
    "for key in reverse_avia_companies.keys():\n",
    "    avia_url_percentages[reverse_avia_companies[key]] = get_url_perc(key, reverse_avia_companies, df_all_replies, conn)\n",
    "avia_url_percentages = dict(sorted(avia_url_percentages.items(), key=lambda x:x[1], reverse=True))\n"
   ]
  },
  {
   "cell_type": "code",
   "execution_count": 11,
   "id": "96856ed8",
   "metadata": {},
   "outputs": [
    {
     "name": "stdout",
     "output_type": "stream",
     "text": [
      "2.6.0\n"
     ]
    }
   ],
   "source": [
    "conn = create_connection(db_name)\n",
    "avia_time_answer_dfs = {}\n",
    "avia_time_answer_median = {}\n",
    "avia_time_answer_mean = {}\n",
    "for key in reverse_avia_companies.keys():\n",
    "    avia_time_answer_df = get_df_time_taken(key, reverse_avia_companies, df_all_replies, conn)\n",
    "    avia_time_answer_median[reverse_avia_companies[key]] = avia_time_answer_df['time_taken'].median()\n",
    "    avia_time_answer_mean[reverse_avia_companies[key]] = avia_time_answer_df['time_taken'].mean()\n",
    "    avia_time_answer_dfs[reverse_avia_companies[key]] = avia_time_answer_df\n",
    "avia_time_answer_mean = dict(sorted(avia_time_answer_mean.items(), key=lambda x:x[1], reverse=True))\n",
    "avia_time_answer_median = dict(sorted(avia_time_answer_median.items(), key=lambda x:x[1], reverse=True))"
   ]
  },
  {
   "cell_type": "code",
   "execution_count": 21,
   "id": "f664642a",
   "metadata": {},
   "outputs": [
    {
     "data": {
      "text/html": [
       "<div>\n",
       "<style scoped>\n",
       "    .dataframe tbody tr th:only-of-type {\n",
       "        vertical-align: middle;\n",
       "    }\n",
       "\n",
       "    .dataframe tbody tr th {\n",
       "        vertical-align: top;\n",
       "    }\n",
       "\n",
       "    .dataframe thead th {\n",
       "        text-align: right;\n",
       "    }\n",
       "</style>\n",
       "<table border=\"1\" class=\"dataframe\">\n",
       "  <thead>\n",
       "    <tr style=\"text-align: right;\">\n",
       "      <th></th>\n",
       "      <th>tweet_id</th>\n",
       "      <th>time_taken</th>\n",
       "      <th>followers_count</th>\n",
       "    </tr>\n",
       "  </thead>\n",
       "  <tbody>\n",
       "    <tr>\n",
       "      <th>0</th>\n",
       "      <td>1131187978771025921</td>\n",
       "      <td>21</td>\n",
       "      <td>17</td>\n",
       "    </tr>\n",
       "    <tr>\n",
       "      <th>1</th>\n",
       "      <td>1131188089328734209</td>\n",
       "      <td>22</td>\n",
       "      <td>17</td>\n",
       "    </tr>\n",
       "    <tr>\n",
       "      <th>2</th>\n",
       "      <td>1131188287803142145</td>\n",
       "      <td>10</td>\n",
       "      <td>137</td>\n",
       "    </tr>\n",
       "    <tr>\n",
       "      <th>3</th>\n",
       "      <td>1131188303821180928</td>\n",
       "      <td>23</td>\n",
       "      <td>17</td>\n",
       "    </tr>\n",
       "    <tr>\n",
       "      <th>4</th>\n",
       "      <td>1131197267493445633</td>\n",
       "      <td>21</td>\n",
       "      <td>31</td>\n",
       "    </tr>\n",
       "    <tr>\n",
       "      <th>...</th>\n",
       "      <td>...</td>\n",
       "      <td>...</td>\n",
       "      <td>...</td>\n",
       "    </tr>\n",
       "    <tr>\n",
       "      <th>18420</th>\n",
       "      <td>1244683439426678796</td>\n",
       "      <td>11849</td>\n",
       "      <td>7</td>\n",
       "    </tr>\n",
       "    <tr>\n",
       "      <th>18421</th>\n",
       "      <td>1244683518287978496</td>\n",
       "      <td>11849</td>\n",
       "      <td>7</td>\n",
       "    </tr>\n",
       "    <tr>\n",
       "      <th>18422</th>\n",
       "      <td>1244688715806539776</td>\n",
       "      <td>28</td>\n",
       "      <td>51</td>\n",
       "    </tr>\n",
       "    <tr>\n",
       "      <th>18423</th>\n",
       "      <td>1244689736125624321</td>\n",
       "      <td>14</td>\n",
       "      <td>177</td>\n",
       "    </tr>\n",
       "    <tr>\n",
       "      <th>18424</th>\n",
       "      <td>1244690584759078916</td>\n",
       "      <td>351</td>\n",
       "      <td>20</td>\n",
       "    </tr>\n",
       "  </tbody>\n",
       "</table>\n",
       "<p>18425 rows × 3 columns</p>\n",
       "</div>"
      ],
      "text/plain": [
       "                  tweet_id  time_taken  followers_count\n",
       "0      1131187978771025921          21               17\n",
       "1      1131188089328734209          22               17\n",
       "2      1131188287803142145          10              137\n",
       "3      1131188303821180928          23               17\n",
       "4      1131197267493445633          21               31\n",
       "...                    ...         ...              ...\n",
       "18420  1244683439426678796       11849                7\n",
       "18421  1244683518287978496       11849                7\n",
       "18422  1244688715806539776          28               51\n",
       "18423  1244689736125624321          14              177\n",
       "18424  1244690584759078916         351               20\n",
       "\n",
       "[18425 rows x 3 columns]"
      ]
     },
     "execution_count": 21,
     "metadata": {},
     "output_type": "execute_result"
    }
   ],
   "source": [
    "avia_time_answer_dfs"
   ]
  },
  {
   "cell_type": "code",
   "execution_count": 17,
   "id": "a196be5d",
   "metadata": {},
   "outputs": [
    {
     "data": {
      "text/plain": [
       "{'British_Airways': 747.2228091198638,\n",
       " 'RyanAir': 567.647079398391,\n",
       " 'AirFrance': 452.85205747877205,\n",
       " 'Qantas': 365.3804975566415,\n",
       " 'easyJet': 293.2458643988816,\n",
       " 'KLM': 246.85845318860245,\n",
       " 'SingaporeAir': 228.24389508592103,\n",
       " 'VirginAtlantic': 226.89251013694437,\n",
       " 'AmericanAir': 54.76287268098893,\n",
       " 'EtihadAirways': 35.349862258953166,\n",
       " 'Lufthansa': 31.277857422129546}"
      ]
     },
     "execution_count": 17,
     "metadata": {},
     "output_type": "execute_result"
    }
   ],
   "source": [
    "avia_time_answer_mean"
   ]
  },
  {
   "cell_type": "code",
   "execution_count": 82,
   "id": "bd53b695",
   "metadata": {},
   "outputs": [
    {
     "data": {
      "text/plain": [
       "{'British_Airways': 168.0,\n",
       " 'Qantas': 113.0,\n",
       " 'SingaporeAir': 71.0,\n",
       " 'RyanAir': 51.0,\n",
       " 'AirFrance': 49.0,\n",
       " 'easyJet': 40.0,\n",
       " 'AmericanAir': 29.0,\n",
       " 'EtihadAirways': 17.5,\n",
       " 'KLM': 14.0,\n",
       " 'VirginAtlantic': 14.0,\n",
       " 'Lufthansa': 7.0}"
      ]
     },
     "execution_count": 82,
     "metadata": {},
     "output_type": "execute_result"
    }
   ],
   "source": [
    "avia_time_answer_median"
   ]
  },
  {
   "cell_type": "code",
   "execution_count": 18,
   "id": "a469d736",
   "metadata": {},
   "outputs": [
    {
     "data": {
      "text/plain": [
       "{'easyJet': 0.508096458527493,\n",
       " 'Lufthansa': 0.4496285677049394,\n",
       " 'SingaporeAir': 0.3234850768766958,\n",
       " 'Qantas': 0.32030208796090626,\n",
       " 'RyanAir': 0.3192724728926198,\n",
       " 'British_Airways': 0.3095613509507742,\n",
       " 'EtihadAirways': 0.2493112947658402,\n",
       " 'VirginAtlantic': 0.22607298599954098,\n",
       " 'AirFrance': 0.22028086218158066,\n",
       " 'KLM': 0.2194843962008141,\n",
       " 'AmericanAir': 0.08304084545068847}"
      ]
     },
     "execution_count": 18,
     "metadata": {},
     "output_type": "execute_result"
    }
   ],
   "source": [
    "avia_url_percentages"
   ]
  },
  {
   "cell_type": "code",
   "execution_count": 19,
   "id": "bb6a4994",
   "metadata": {},
   "outputs": [
    {
     "data": {
      "text/plain": [
       "{'British_Airways': 0.463336766972772,\n",
       " 'SingaporeAir': 0.4415895626705718,\n",
       " 'KLM': 0.43857561114946086,\n",
       " 'VirginAtlantic': 0.3920163152685721,\n",
       " 'easyJet': 0.3707911276214337,\n",
       " 'AmericanAir': 0.3565874769628563,\n",
       " 'AirFrance': 0.291674604686607,\n",
       " 'Qantas': 0.2897039897039897,\n",
       " 'Lufthansa': 0.2644129708122265,\n",
       " 'RyanAir': 0.1780709294069285,\n",
       " 'EtihadAirways': 0.05779794602340578}"
      ]
     },
     "execution_count": 19,
     "metadata": {},
     "output_type": "execute_result"
    }
   ],
   "source": [
    "avia_reply_percentages"
   ]
  },
  {
   "cell_type": "code",
   "execution_count": 89,
   "id": "3e5cbb5e",
   "metadata": {},
   "outputs": [],
   "source": [
    "query = f'''\n",
    "    SELECT tweets.tweet_id AS uniq, user_mentions.tweet_id, user_mentions.text, tweets.text, tweets.tweet_type, tweets.lang \n",
    "    FROM tweets, user_mentions\n",
    "    WHERE tweets.tweet_id = user_mentions.tweet_id AND user_mentions.text = '38676903' AND tweets.lang != 'und'\n",
    "    '''\n",
    "df= pd.read_sql_query(query, conn).drop_duplicates()"
   ]
  },
  {
   "cell_type": "code",
   "execution_count": 90,
   "id": "1182a092",
   "metadata": {},
   "outputs": [
    {
     "data": {
      "text/html": [
       "<div>\n",
       "<style scoped>\n",
       "    .dataframe tbody tr th:only-of-type {\n",
       "        vertical-align: middle;\n",
       "    }\n",
       "\n",
       "    .dataframe tbody tr th {\n",
       "        vertical-align: top;\n",
       "    }\n",
       "\n",
       "    .dataframe thead th {\n",
       "        text-align: right;\n",
       "    }\n",
       "</style>\n",
       "<table border=\"1\" class=\"dataframe\">\n",
       "  <thead>\n",
       "    <tr style=\"text-align: right;\">\n",
       "      <th></th>\n",
       "      <th>uniq</th>\n",
       "      <th>tweet_id</th>\n",
       "      <th>text</th>\n",
       "      <th>text</th>\n",
       "      <th>tweet_type</th>\n",
       "      <th>lang</th>\n",
       "    </tr>\n",
       "  </thead>\n",
       "  <tbody>\n",
       "    <tr>\n",
       "      <th>0</th>\n",
       "      <td>1131173038194606081</td>\n",
       "      <td>1131173038194606081</td>\n",
       "      <td>38676903</td>\n",
       "      <td>@easyJet It is impossible to get in contact wi...</td>\n",
       "      <td>reply</td>\n",
       "      <td>en</td>\n",
       "    </tr>\n",
       "    <tr>\n",
       "      <th>1</th>\n",
       "      <td>1131173142414712832</td>\n",
       "      <td>1131173142414712832</td>\n",
       "      <td>38676903</td>\n",
       "      <td>And had to pay extra £50 because bag wouldnt f...</td>\n",
       "      <td>reply</td>\n",
       "      <td>en</td>\n",
       "    </tr>\n",
       "    <tr>\n",
       "      <th>2</th>\n",
       "      <td>1131173644271587328</td>\n",
       "      <td>1131173644271587328</td>\n",
       "      <td>38676903</td>\n",
       "      <td>Yes please @Ryanair @easyJet</td>\n",
       "      <td>quote</td>\n",
       "      <td>en</td>\n",
       "    </tr>\n",
       "    <tr>\n",
       "      <th>3</th>\n",
       "      <td>1131173747191369729</td>\n",
       "      <td>1131173747191369729</td>\n",
       "      <td>38676903</td>\n",
       "      <td>@easyJet El mio vuelu sofrió un retrasu d'unos...</td>\n",
       "      <td>reply</td>\n",
       "      <td>es</td>\n",
       "    </tr>\n",
       "    <tr>\n",
       "      <th>4</th>\n",
       "      <td>1131173839512264706</td>\n",
       "      <td>1131173839512264706</td>\n",
       "      <td>38676903</td>\n",
       "      <td>And had to pay extra £50 because bag wouldnt f...</td>\n",
       "      <td>retweet</td>\n",
       "      <td>en</td>\n",
       "    </tr>\n",
       "    <tr>\n",
       "      <th>...</th>\n",
       "      <td>...</td>\n",
       "      <td>...</td>\n",
       "      <td>...</td>\n",
       "      <td>...</td>\n",
       "      <td>...</td>\n",
       "      <td>...</td>\n",
       "    </tr>\n",
       "    <tr>\n",
       "      <th>386753</th>\n",
       "      <td>1244696059168919555</td>\n",
       "      <td>1244696059168919555</td>\n",
       "      <td>38676903</td>\n",
       "      <td>@ASuglani @easyJet I believe I called the UK 0...</td>\n",
       "      <td>retweet</td>\n",
       "      <td>en</td>\n",
       "    </tr>\n",
       "    <tr>\n",
       "      <th>386754</th>\n",
       "      <td>1244696257781805056</td>\n",
       "      <td>1244696257781805056</td>\n",
       "      <td>38676903</td>\n",
       "      <td>@easyJet I replied to your message at 10.17am ...</td>\n",
       "      <td>reply</td>\n",
       "      <td>en</td>\n",
       "    </tr>\n",
       "    <tr>\n",
       "      <th>386755</th>\n",
       "      <td>1244696371900436481</td>\n",
       "      <td>1244696371900436481</td>\n",
       "      <td>38676903</td>\n",
       "      <td>@lvpearcy32 @easyJet They haven't replied to m...</td>\n",
       "      <td>reply</td>\n",
       "      <td>en</td>\n",
       "    </tr>\n",
       "    <tr>\n",
       "      <th>386756</th>\n",
       "      <td>1244696491580628993</td>\n",
       "      <td>1244696491580628993</td>\n",
       "      <td>38676903</td>\n",
       "      <td>@adnansaleemiX @qatarairways @emirates @easyJe...</td>\n",
       "      <td>reply</td>\n",
       "      <td>en</td>\n",
       "    </tr>\n",
       "    <tr>\n",
       "      <th>386757</th>\n",
       "      <td>1244696713765564416</td>\n",
       "      <td>1244696713765564416</td>\n",
       "      <td>38676903</td>\n",
       "      <td>@easyJet My refund is being process since two ...</td>\n",
       "      <td>original</td>\n",
       "      <td>en</td>\n",
       "    </tr>\n",
       "  </tbody>\n",
       "</table>\n",
       "<p>359292 rows × 6 columns</p>\n",
       "</div>"
      ],
      "text/plain": [
       "                       uniq             tweet_id      text  \\\n",
       "0       1131173038194606081  1131173038194606081  38676903   \n",
       "1       1131173142414712832  1131173142414712832  38676903   \n",
       "2       1131173644271587328  1131173644271587328  38676903   \n",
       "3       1131173747191369729  1131173747191369729  38676903   \n",
       "4       1131173839512264706  1131173839512264706  38676903   \n",
       "...                     ...                  ...       ...   \n",
       "386753  1244696059168919555  1244696059168919555  38676903   \n",
       "386754  1244696257781805056  1244696257781805056  38676903   \n",
       "386755  1244696371900436481  1244696371900436481  38676903   \n",
       "386756  1244696491580628993  1244696491580628993  38676903   \n",
       "386757  1244696713765564416  1244696713765564416  38676903   \n",
       "\n",
       "                                                     text tweet_type lang  \n",
       "0       @easyJet It is impossible to get in contact wi...      reply   en  \n",
       "1       And had to pay extra £50 because bag wouldnt f...      reply   en  \n",
       "2                            Yes please @Ryanair @easyJet      quote   en  \n",
       "3       @easyJet El mio vuelu sofrió un retrasu d'unos...      reply   es  \n",
       "4       And had to pay extra £50 because bag wouldnt f...    retweet   en  \n",
       "...                                                   ...        ...  ...  \n",
       "386753  @ASuglani @easyJet I believe I called the UK 0...    retweet   en  \n",
       "386754  @easyJet I replied to your message at 10.17am ...      reply   en  \n",
       "386755  @lvpearcy32 @easyJet They haven't replied to m...      reply   en  \n",
       "386756  @adnansaleemiX @qatarairways @emirates @easyJe...      reply   en  \n",
       "386757  @easyJet My refund is being process since two ...   original   en  \n",
       "\n",
       "[359292 rows x 6 columns]"
      ]
     },
     "execution_count": 90,
     "metadata": {},
     "output_type": "execute_result"
    }
   ],
   "source": [
    "df"
   ]
  },
  {
   "cell_type": "code",
   "execution_count": null,
   "id": "3e9c7d3b",
   "metadata": {},
   "outputs": [],
   "source": []
  }
 ],
 "metadata": {
  "kernelspec": {
   "display_name": "Python 3 (ipykernel)",
   "language": "python",
   "name": "python3"
  },
  "language_info": {
   "codemirror_mode": {
    "name": "ipython",
    "version": 3
   },
   "file_extension": ".py",
   "mimetype": "text/x-python",
   "name": "python",
   "nbconvert_exporter": "python",
   "pygments_lexer": "ipython3",
   "version": "3.8.16"
  }
 },
 "nbformat": 4,
 "nbformat_minor": 5
}
