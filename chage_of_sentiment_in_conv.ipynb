{
 "cells": [
  {
   "cell_type": "code",
   "execution_count": 207,
   "metadata": {},
   "outputs": [],
   "source": [
    "import pandas as pd\n",
    "import seaborn as sns\n",
    "import matplotlib.pyplot as plt\n"
   ]
  },
  {
   "cell_type": "code",
   "execution_count": 175,
   "metadata": {},
   "outputs": [],
   "source": [
    "convos = pd.read_json('/Users/ansat.omurzakov/Downloads/updated_convs.json')"
   ]
  },
  {
   "cell_type": "code",
   "execution_count": null,
   "metadata": {},
   "outputs": [],
   "source": [
    "easy_ids= pd.read_json('/Users/ansat.omurzakov/Desktop/easy_ids.json')"
   ]
  },
  {
   "cell_type": "code",
   "execution_count": 208,
   "metadata": {},
   "outputs": [],
   "source": [
    "avia_companies = {'KLM': 56377143, 'AirFrance': 106062176, 'British_Airways': 18332190, 'AmericanAir': 22536055,\n",
    "                  'Lufthansa': 124476322, 'AirBerlin': 26223583,\n",
    "                  'AirBerlin assist': 2182373406, 'easyJet': 38676903, 'RyanAir': 1542862735, 'SingaporeAir': 253340062,\n",
    "                  'Qantas': 218730857, 'EtihadAirways': 45621423,\n",
    "                  'VirginAtlantic': 20626359}"
   ]
  },
  {
   "cell_type": "code",
   "execution_count": 209,
   "metadata": {},
   "outputs": [],
   "source": [
    "hueta = convos.groupby('conv_id').count()\n",
    "hueta = hueta[hueta['user_id']> 2]"
   ]
  },
  {
   "cell_type": "code",
   "execution_count": 210,
   "metadata": {},
   "outputs": [
    {
     "data": {
      "text/html": [
       "<div>\n",
       "<style scoped>\n",
       "    .dataframe tbody tr th:only-of-type {\n",
       "        vertical-align: middle;\n",
       "    }\n",
       "\n",
       "    .dataframe tbody tr th {\n",
       "        vertical-align: top;\n",
       "    }\n",
       "\n",
       "    .dataframe thead th {\n",
       "        text-align: right;\n",
       "    }\n",
       "</style>\n",
       "<table border=\"1\" class=\"dataframe\">\n",
       "  <thead>\n",
       "    <tr style=\"text-align: right;\">\n",
       "      <th></th>\n",
       "      <th>conv_id</th>\n",
       "    </tr>\n",
       "  </thead>\n",
       "  <tbody>\n",
       "    <tr>\n",
       "      <th>0</th>\n",
       "      <td>0</td>\n",
       "    </tr>\n",
       "    <tr>\n",
       "      <th>1</th>\n",
       "      <td>6</td>\n",
       "    </tr>\n",
       "    <tr>\n",
       "      <th>2</th>\n",
       "      <td>8</td>\n",
       "    </tr>\n",
       "    <tr>\n",
       "      <th>3</th>\n",
       "      <td>9</td>\n",
       "    </tr>\n",
       "    <tr>\n",
       "      <th>4</th>\n",
       "      <td>11</td>\n",
       "    </tr>\n",
       "    <tr>\n",
       "      <th>...</th>\n",
       "      <td>...</td>\n",
       "    </tr>\n",
       "    <tr>\n",
       "      <th>133154</th>\n",
       "      <td>388298</td>\n",
       "    </tr>\n",
       "    <tr>\n",
       "      <th>133155</th>\n",
       "      <td>388299</td>\n",
       "    </tr>\n",
       "    <tr>\n",
       "      <th>133156</th>\n",
       "      <td>388304</td>\n",
       "    </tr>\n",
       "    <tr>\n",
       "      <th>133157</th>\n",
       "      <td>388305</td>\n",
       "    </tr>\n",
       "    <tr>\n",
       "      <th>133158</th>\n",
       "      <td>388307</td>\n",
       "    </tr>\n",
       "  </tbody>\n",
       "</table>\n",
       "<p>133159 rows × 1 columns</p>\n",
       "</div>"
      ],
      "text/plain": [
       "        conv_id\n",
       "0             0\n",
       "1             6\n",
       "2             8\n",
       "3             9\n",
       "4            11\n",
       "...         ...\n",
       "133154   388298\n",
       "133155   388299\n",
       "133156   388304\n",
       "133157   388305\n",
       "133158   388307\n",
       "\n",
       "[133159 rows x 1 columns]"
      ]
     },
     "execution_count": 210,
     "metadata": {},
     "output_type": "execute_result"
    }
   ],
   "source": [
    "hueta = hueta.reset_index()[['conv_id']]\n",
    "hueta"
   ]
  },
  {
   "cell_type": "code",
   "execution_count": 211,
   "metadata": {},
   "outputs": [],
   "source": [
    "convos = convos[convos['conv_id'].isin(hueta['conv_id'])]"
   ]
  },
  {
   "cell_type": "code",
   "execution_count": 212,
   "metadata": {},
   "outputs": [],
   "source": [
    "cleaning = convos.drop_duplicates(subset = 'conv_id', keep = 'first')\n",
    "cleaned = cleaning[cleaning['user_id'].isin(avia_companies.values())==False][['conv_id']]\n",
    "convos = convos[convos['conv_id'].isin(cleaned['conv_id'])]"
   ]
  },
  {
   "cell_type": "code",
   "execution_count": 214,
   "metadata": {},
   "outputs": [],
   "source": [
    "# Distribute between two datasets easy_convo and british_convo\n",
    "# Get first and last sentiment and make a table out of that to see if there was a help from customer service of particular flight company\n"
   ]
  },
  {
   "attachments": {},
   "cell_type": "markdown",
   "metadata": {},
   "source": [
    "## Easy Jet how did the sentiment changed after talking with customer service?"
   ]
  },
  {
   "cell_type": "code",
   "execution_count": 215,
   "metadata": {},
   "outputs": [],
   "source": [
    "easy_convos = convos[convos['for_airline_id'] == avia_companies['easyJet']].reset_index(drop = True)"
   ]
  },
  {
   "cell_type": "code",
   "execution_count": 216,
   "metadata": {},
   "outputs": [],
   "source": [
    "easy_convos = easy_convos[easy_convos['user_id'] != avia_companies['easyJet']]\n",
    "before_service = easy_convos.drop_duplicates(subset = 'conv_id', keep = 'first')\n",
    "before_service = before_service[before_service['sentiment_label'] == 'negative']"
   ]
  },
  {
   "cell_type": "code",
   "execution_count": 217,
   "metadata": {},
   "outputs": [
    {
     "data": {
      "text/plain": [
       "11729"
      ]
     },
     "execution_count": 217,
     "metadata": {},
     "output_type": "execute_result"
    }
   ],
   "source": [
    "len(before_service)"
   ]
  },
  {
   "cell_type": "code",
   "execution_count": 218,
   "metadata": {},
   "outputs": [],
   "source": [
    "after_service = easy_convos.drop_duplicates(subset = 'conv_id', keep = 'last')\n",
    "after_service = after_service[after_service['conv_id'].isin(before_service['conv_id'])]"
   ]
  },
  {
   "cell_type": "code",
   "execution_count": 219,
   "metadata": {},
   "outputs": [
    {
     "data": {
      "text/plain": [
       "negative    6327\n",
       "neutral     3278\n",
       "positive    2124\n",
       "Name: sentiment_label, dtype: int64"
      ]
     },
     "execution_count": 219,
     "metadata": {},
     "output_type": "execute_result"
    }
   ],
   "source": [
    "after_service['sentiment_label'].value_counts()"
   ]
  },
  {
   "cell_type": "code",
   "execution_count": 220,
   "metadata": {},
   "outputs": [
    {
     "data": {
      "text/plain": [
       "11729"
      ]
     },
     "execution_count": 220,
     "metadata": {},
     "output_type": "execute_result"
    }
   ],
   "source": [
    "len(after_service)"
   ]
  },
  {
   "cell_type": "code",
   "execution_count": 221,
   "metadata": {},
   "outputs": [
    {
     "data": {
      "image/png": "[encoded data removed]",
      "text/plain": [
       "<Figure size 1200x500 with 2 Axes>"
      ]
     },
     "metadata": {},
     "output_type": "display_data"
    }
   ],
   "source": [
    "fig, ax = plt.subplots(nrows=1, ncols=2, squeeze=False, figsize=(12, 5))\n",
    "ax_1 = before_service['sentiment_label'].value_counts().plot(kind='barh', ax=ax[0, 0])\n",
    "ax_2 = after_service['sentiment_label'].value_counts().plot(kind='barh', ax=ax[0, 1])"
   ]
  },
  {
   "attachments": {},
   "cell_type": "markdown",
   "metadata": {},
   "source": [
    "## British Airways"
   ]
  },
  {
   "cell_type": "code",
   "execution_count": 222,
   "metadata": {},
   "outputs": [],
   "source": [
    "british_convos = convos[convos['for_airline_id'] == avia_companies['British_Airways']].reset_index(drop = True)"
   ]
  },
  {
   "cell_type": "code",
   "execution_count": 223,
   "metadata": {},
   "outputs": [],
   "source": [
    "british_convos = british_convos[british_convos['user_id'] != avia_companies['British_Airways']]\n",
    "before_service = british_convos.drop_duplicates(subset = 'conv_id', keep = 'first')\n",
    "before_service = before_service[before_service['sentiment_label'] == 'negative']"
   ]
  },
  {
   "cell_type": "code",
   "execution_count": 224,
   "metadata": {},
   "outputs": [
    {
     "data": {
      "text/plain": [
       "21636"
      ]
     },
     "execution_count": 224,
     "metadata": {},
     "output_type": "execute_result"
    }
   ],
   "source": [
    "len(before_service)"
   ]
  },
  {
   "cell_type": "code",
   "execution_count": 225,
   "metadata": {},
   "outputs": [],
   "source": [
    "after_service = british_convos.drop_duplicates(subset = 'conv_id', keep = 'last')\n",
    "after_service = after_service[after_service['conv_id'].isin(before_service['conv_id'])]"
   ]
  },
  {
   "cell_type": "code",
   "execution_count": 226,
   "metadata": {},
   "outputs": [
    {
     "data": {
      "text/plain": [
       "negative    11469\n",
       "neutral      6453\n",
       "positive     3714\n",
       "Name: sentiment_label, dtype: int64"
      ]
     },
     "execution_count": 226,
     "metadata": {},
     "output_type": "execute_result"
    }
   ],
   "source": [
    "after_service['sentiment_label'].value_counts()"
   ]
  },
  {
   "cell_type": "code",
   "execution_count": 227,
   "metadata": {},
   "outputs": [
    {
     "data": {
      "text/plain": [
       "21636"
      ]
     },
     "execution_count": 227,
     "metadata": {},
     "output_type": "execute_result"
    }
   ],
   "source": [
    "len(after_service)"
   ]
  },
  {
   "cell_type": "code",
   "execution_count": 228,
   "metadata": {},
   "outputs": [
    {
     "data": {
      "image/png": "[encoded data removed]",
      "text/plain": [
       "<Figure size 1200x500 with 2 Axes>"
      ]
     },
     "metadata": {},
     "output_type": "display_data"
    }
   ],
   "source": [
    "fig, ax = plt.subplots(nrows=1, ncols=2, squeeze=False, figsize=(12, 5))\n",
    "ax_1 = before_service['sentiment_label'].value_counts().plot(kind='barh', ax=ax[0, 0])\n",
    "ax_2 = after_service['sentiment_label'].value_counts().plot(kind='barh', ax=ax[0, 1])"
   ]
  },
  {
   "cell_type": "code",
   "execution_count": null,
   "metadata": {},
   "outputs": [],
   "source": []
  }
 ],
 "metadata": {
  "kernelspec": {
   "display_name": "Analytics_for_engineers",
   "language": "python",
   "name": "python3"
  },
  "language_info": {
   "codemirror_mode": {
    "name": "ipython",
    "version": 3
   },
   "file_extension": ".py",
   "mimetype": "text/x-python",
   "name": "python",
   "nbconvert_exporter": "python",
   "pygments_lexer": "ipython3",
   "version": "3.10.9"
  },
  "orig_nbformat": 4
 },
 "nbformat": 4,
 "nbformat_minor": 2
}
